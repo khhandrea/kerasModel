{
 "metadata": {
  "language_info": {
   "codemirror_mode": {
    "name": "ipython",
    "version": 3
   },
   "file_extension": ".py",
   "mimetype": "text/x-python",
   "name": "python",
   "nbconvert_exporter": "python",
   "pygments_lexer": "ipython3",
   "version": "3.9.6"
  },
  "orig_nbformat": 4,
  "kernelspec": {
   "name": "python3",
   "display_name": "Python 3.9.6 64-bit"
  },
  "interpreter": {
   "hash": "25bf1dab56f13e21d80318cd5e789e076f92a14fa9924f370a2a818164c863f4"
  }
 },
 "nbformat": 4,
 "nbformat_minor": 2,
 "cells": [
  {
   "cell_type": "markdown",
   "source": [
    "## Setup"
   ],
   "metadata": {}
  },
  {
   "cell_type": "code",
   "execution_count": 1,
   "source": [
    "##### setup #####\r\n",
    "import numpy as np\r\n",
    "from tensorflow import keras\r\n",
    "from tensorflow.keras import layers"
   ],
   "outputs": [],
   "metadata": {}
  },
  {
   "cell_type": "markdown",
   "source": [
    "## Prepare the data"
   ],
   "metadata": {}
  },
  {
   "cell_type": "code",
   "execution_count": 28,
   "source": [
    "##### Prepare the data #####\r\n",
    "# data parameters\r\n",
    "num_classes = 10\r\n",
    "input_shape = (28, 28, 1)\r\n",
    "dropout = 0.5\r\n",
    "batch_size = 128\r\n",
    "epochs = 15\r\n",
    "(x_train, y_train), (x_test, y_test) = keras.datasets.mnist.load_data()\r\n",
    "\r\n",
    "x_train = x_train.astype(\"float32\") / 255\r\n",
    "x_test  = x_test.astype(\"float32\") / 255\r\n",
    "# expand the last dimension\r\n",
    "x_train = np.expand_dims(x_train, -1)\r\n",
    "x_test = np.expand_dims(x_test, -1)\r\n",
    "y_train = keras.utils.to_categorical(y_train, num_classes)\r\n",
    "y_test = keras.utils.to_categorical(y_test, num_classes)\r\n",
    "print(\"x_train shape:\", x_train.shape)\r\n",
    "print(\"y_train shape:\", y_train.shape)\r\n",
    "print(x_train.shape[0], \"train samples\")\r\n",
    "print(x_test.shape[0], \"test samples\")"
   ],
   "outputs": [
    {
     "output_type": "stream",
     "name": "stdout",
     "text": [
      "x_train shape: (60000, 28, 28, 1)\n",
      "y_train shape: (60000, 10)\n",
      "60000 train samples\n",
      "10000 test samples\n"
     ]
    }
   ],
   "metadata": {}
  },
  {
   "cell_type": "markdown",
   "source": [
    "## Build the model"
   ],
   "metadata": {}
  },
  {
   "cell_type": "code",
   "execution_count": 21,
   "source": [
    "##### Build the model #####\r\n",
    "model = keras.Sequential(\r\n",
    "    [\r\n",
    "        layers.InputLayer(input_shape=input_shape),\r\n",
    "        layers.Conv2D(32, kernel_size=(3, 3), activation=\"relu\"),\r\n",
    "        layers.MaxPooling2D(pool_size=(2, 2)),\r\n",
    "        layers.Conv2D(64, kernel_size=(3, 3), activation=\"relu\"),\r\n",
    "        layers.MaxPooling2D(pool_size=(2, 2)),\r\n",
    "        layers.Flatten(),\r\n",
    "        layers.Dropout(dropout),\r\n",
    "        layers.Dense(num_classes, activation=\"softmax\")\r\n",
    "    ]\r\n",
    ")\r\n",
    "\r\n",
    "model.summary()"
   ],
   "outputs": [
    {
     "output_type": "stream",
     "name": "stdout",
     "text": [
      "Model: \"sequential_4\"\n",
      "_________________________________________________________________\n",
      "Layer (type)                 Output Shape              Param #   \n",
      "=================================================================\n",
      "conv2d_10 (Conv2D)           (None, 26, 26, 32)        320       \n",
      "_________________________________________________________________\n",
      "max_pooling2d_10 (MaxPooling (None, 13, 13, 32)        0         \n",
      "_________________________________________________________________\n",
      "conv2d_11 (Conv2D)           (None, 11, 11, 64)        18496     \n",
      "_________________________________________________________________\n",
      "max_pooling2d_11 (MaxPooling (None, 5, 5, 64)          0         \n",
      "_________________________________________________________________\n",
      "flatten_5 (Flatten)          (None, 1600)              0         \n",
      "_________________________________________________________________\n",
      "dropout_5 (Dropout)          (None, 1600)              0         \n",
      "_________________________________________________________________\n",
      "dense_4 (Dense)              (None, 10)                16010     \n",
      "=================================================================\n",
      "Total params: 34,826\n",
      "Trainable params: 34,826\n",
      "Non-trainable params: 0\n",
      "_________________________________________________________________\n"
     ]
    }
   ],
   "metadata": {}
  },
  {
   "cell_type": "markdown",
   "source": [
    "## Train the model"
   ],
   "metadata": {}
  },
  {
   "cell_type": "code",
   "execution_count": 29,
   "source": [
    "##### Train the mode #####\n",
    "model.compile(loss=\"categorical_crossentropy\", optimizer=\"adam\", metrics=[\"accuracy\"])\n",
    "model.fit(x_train, y_train, batch_size=batch_size, epochs=epochs, validation_split=0.1)"
   ],
   "outputs": [
    {
     "output_type": "stream",
     "name": "stdout",
     "text": [
      "Epoch 1/15\n",
      "422/422 [==============================] - 12s 28ms/step - loss: 0.3637 - accuracy: 0.8928 - val_loss: 0.0787 - val_accuracy: 0.9777\n",
      "Epoch 2/15\n",
      "422/422 [==============================] - 12s 28ms/step - loss: 0.1067 - accuracy: 0.9671 - val_loss: 0.0552 - val_accuracy: 0.9843\n",
      "Epoch 3/15\n",
      "422/422 [==============================] - 12s 28ms/step - loss: 0.0802 - accuracy: 0.9752 - val_loss: 0.0464 - val_accuracy: 0.9872\n",
      "Epoch 4/15\n",
      "422/422 [==============================] - 12s 28ms/step - loss: 0.0675 - accuracy: 0.9789 - val_loss: 0.0394 - val_accuracy: 0.9895\n",
      "Epoch 5/15\n",
      "422/422 [==============================] - 12s 28ms/step - loss: 0.0594 - accuracy: 0.9816 - val_loss: 0.0369 - val_accuracy: 0.9910\n",
      "Epoch 6/15\n",
      "422/422 [==============================] - 12s 28ms/step - loss: 0.0521 - accuracy: 0.9839 - val_loss: 0.0372 - val_accuracy: 0.9912\n",
      "Epoch 7/15\n",
      "422/422 [==============================] - 12s 28ms/step - loss: 0.0503 - accuracy: 0.9837 - val_loss: 0.0332 - val_accuracy: 0.9920\n",
      "Epoch 8/15\n",
      "422/422 [==============================] - 12s 28ms/step - loss: 0.0440 - accuracy: 0.9857 - val_loss: 0.0314 - val_accuracy: 0.9923\n",
      "Epoch 9/15\n",
      "422/422 [==============================] - 12s 28ms/step - loss: 0.0427 - accuracy: 0.9858 - val_loss: 0.0320 - val_accuracy: 0.9918\n",
      "Epoch 10/15\n",
      "422/422 [==============================] - 12s 28ms/step - loss: 0.0406 - accuracy: 0.9866 - val_loss: 0.0313 - val_accuracy: 0.9927\n",
      "Epoch 11/15\n",
      "422/422 [==============================] - 12s 27ms/step - loss: 0.0378 - accuracy: 0.9874 - val_loss: 0.0301 - val_accuracy: 0.9913\n",
      "Epoch 12/15\n",
      "422/422 [==============================] - 12s 28ms/step - loss: 0.0349 - accuracy: 0.9890 - val_loss: 0.0288 - val_accuracy: 0.9923\n",
      "Epoch 13/15\n",
      "422/422 [==============================] - 12s 28ms/step - loss: 0.0347 - accuracy: 0.9884 - val_loss: 0.0300 - val_accuracy: 0.9923\n",
      "Epoch 14/15\n",
      "422/422 [==============================] - 12s 28ms/step - loss: 0.0316 - accuracy: 0.9899 - val_loss: 0.0312 - val_accuracy: 0.9918\n",
      "Epoch 15/15\n",
      "422/422 [==============================] - 12s 28ms/step - loss: 0.0306 - accuracy: 0.9900 - val_loss: 0.0262 - val_accuracy: 0.9928\n"
     ]
    },
    {
     "output_type": "execute_result",
     "data": {
      "text/plain": [
       "<tensorflow.python.keras.callbacks.History at 0x2183b565430>"
      ]
     },
     "metadata": {},
     "execution_count": 29
    }
   ],
   "metadata": {}
  },
  {
   "cell_type": "markdown",
   "source": [
    "## Evaluate the trained model"
   ],
   "metadata": {}
  },
  {
   "cell_type": "code",
   "execution_count": 30,
   "source": [
    "##### Evaluate the trained model #####\n",
    "score = model.evaluate(x_test, y_test, verbose=0)\n",
    "print(\"Test loss:\", score[0])\n",
    "print(\"Test accuracy:\", score[1])"
   ],
   "outputs": [
    {
     "output_type": "stream",
     "name": "stdout",
     "text": [
      "Test loss: 0.02265968546271324\n",
      "Test accuracy: 0.9918000102043152\n"
     ]
    }
   ],
   "metadata": {}
  }
 ]
}