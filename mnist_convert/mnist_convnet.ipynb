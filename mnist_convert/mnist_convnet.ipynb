{
 "metadata": {
  "language_info": {
   "codemirror_mode": {
    "name": "ipython",
    "version": 3
   },
   "file_extension": ".py",
   "mimetype": "text/x-python",
   "name": "python",
   "nbconvert_exporter": "python",
   "pygments_lexer": "ipython3",
   "version": "3.9.6"
  },
  "orig_nbformat": 4,
  "kernelspec": {
   "name": "python3",
   "display_name": "Python 3.9.6 64-bit"
  },
  "interpreter": {
   "hash": "25bf1dab56f13e21d80318cd5e789e076f92a14fa9924f370a2a818164c863f4"
  }
 },
 "nbformat": 4,
 "nbformat_minor": 2,
 "cells": [
  {
   "source": [
    "## Setup"
   ],
   "cell_type": "markdown",
   "metadata": {}
  },
  {
   "cell_type": "code",
   "execution_count": 1,
   "metadata": {},
   "outputs": [],
   "source": [
    "##### setup #####\n",
    "import numpy as np\n",
    "from tensorflow import keras\n",
    "from tensorflow.keras import layers"
   ]
  },
  {
   "source": [
    "## Prepare the data"
   ],
   "cell_type": "markdown",
   "metadata": {}
  },
  {
   "source": [
    "##### Prepare the data #####\n",
    "# data parameters\n",
    "num_classes = 10\n",
    "input_shape = (28, 28, 1)\n",
    "dropout = 0.5\n",
    "batch_size = 128\n",
    "epochs = 15\n",
    "(x_train, y_train), (x_test, y_test) = keras.datasets.mnist.load_data()\n",
    "\n",
    "x_train = x_train.astype(\"float32\") / 255\n",
    "x_test  = x_test.astype(\"float32\") / 255\n",
    "# expand the last dimension\n",
    "x_train = np.expand_dims(x_train, -1)\n",
    "x_test = np.expand_dims(x_test, -1)\n",
    "y_train = keras.utils.to_categorical(y_train, num_classes)\n",
    "y_test = keras.utils.to_categorical(y_test, num_classes)\n",
    "print(\"x_train shape:\", x_train.shape)\n",
    "print(\"y_train shape:\", y_train.shape)\n",
    "print(x_train.shape[0], \"train samples\")\n",
    "print(x_test.shape[0], \"test samples\")"
   ],
   "cell_type": "code",
   "metadata": {},
   "execution_count": 28,
   "outputs": [
    {
     "output_type": "stream",
     "name": "stdout",
     "text": [
      "x_train shape: (60000, 28, 28, 1)\ny_train shape: (60000, 10)\n60000 train samples\n10000 test samples\n"
     ]
    }
   ]
  },
  {
   "source": [
    "## Build the model"
   ],
   "cell_type": "markdown",
   "metadata": {}
  },
  {
   "cell_type": "code",
   "execution_count": 21,
   "metadata": {},
   "outputs": [
    {
     "output_type": "stream",
     "name": "stdout",
     "text": [
      "Model: \"sequential_4\"\n_________________________________________________________________\nLayer (type)                 Output Shape              Param #   \n=================================================================\nconv2d_10 (Conv2D)           (None, 26, 26, 32)        320       \n_________________________________________________________________\nmax_pooling2d_10 (MaxPooling (None, 13, 13, 32)        0         \n_________________________________________________________________\nconv2d_11 (Conv2D)           (None, 11, 11, 64)        18496     \n_________________________________________________________________\nmax_pooling2d_11 (MaxPooling (None, 5, 5, 64)          0         \n_________________________________________________________________\nflatten_5 (Flatten)          (None, 1600)              0         \n_________________________________________________________________\ndropout_5 (Dropout)          (None, 1600)              0         \n_________________________________________________________________\ndense_4 (Dense)              (None, 10)                16010     \n=================================================================\nTotal params: 34,826\nTrainable params: 34,826\nNon-trainable params: 0\n_________________________________________________________________\n"
     ]
    }
   ],
   "source": [
    "##### Build the model #####\n",
    "model = keras.Sequential(\n",
    "    [\n",
    "        layers.InputLayer(input_shape=input_shape),\n",
    "        layers.Conv2D(32, kernel_size=(3, 3), activation=\"relu\"),\n",
    "        layers.MaxPooling2D(pool_size=(2, 2)),\n",
    "        layers.Conv2D(64, kernel_size=(3, 3), activation=\"relu\"),\n",
    "        layers.MaxPooling2D(pool_size=(2, 2)),\n",
    "        layers.Flatten(),\n",
    "        layers.Dropout(dropout),\n",
    "        layers.Dense(num_classes, activation=\"softmax\")\n",
    "    ]\n",
    ")\n",
    "\n",
    "model.summary()"
   ]
  },
  {
   "source": [
    "## Train the model"
   ],
   "cell_type": "markdown",
   "metadata": {}
  },
  {
   "cell_type": "code",
   "execution_count": 29,
   "metadata": {},
   "outputs": [
    {
     "output_type": "stream",
     "name": "stdout",
     "text": [
      "Epoch 1/15\n",
      "422/422 [==============================] - 12s 28ms/step - loss: 0.3637 - accuracy: 0.8928 - val_loss: 0.0787 - val_accuracy: 0.9777\n",
      "Epoch 2/15\n",
      "422/422 [==============================] - 12s 28ms/step - loss: 0.1067 - accuracy: 0.9671 - val_loss: 0.0552 - val_accuracy: 0.9843\n",
      "Epoch 3/15\n",
      "422/422 [==============================] - 12s 28ms/step - loss: 0.0802 - accuracy: 0.9752 - val_loss: 0.0464 - val_accuracy: 0.9872\n",
      "Epoch 4/15\n",
      "422/422 [==============================] - 12s 28ms/step - loss: 0.0675 - accuracy: 0.9789 - val_loss: 0.0394 - val_accuracy: 0.9895\n",
      "Epoch 5/15\n",
      "422/422 [==============================] - 12s 28ms/step - loss: 0.0594 - accuracy: 0.9816 - val_loss: 0.0369 - val_accuracy: 0.9910\n",
      "Epoch 6/15\n",
      "422/422 [==============================] - 12s 28ms/step - loss: 0.0521 - accuracy: 0.9839 - val_loss: 0.0372 - val_accuracy: 0.9912\n",
      "Epoch 7/15\n",
      "422/422 [==============================] - 12s 28ms/step - loss: 0.0503 - accuracy: 0.9837 - val_loss: 0.0332 - val_accuracy: 0.9920\n",
      "Epoch 8/15\n",
      "422/422 [==============================] - 12s 28ms/step - loss: 0.0440 - accuracy: 0.9857 - val_loss: 0.0314 - val_accuracy: 0.9923\n",
      "Epoch 9/15\n",
      "422/422 [==============================] - 12s 28ms/step - loss: 0.0427 - accuracy: 0.9858 - val_loss: 0.0320 - val_accuracy: 0.9918\n",
      "Epoch 10/15\n",
      "422/422 [==============================] - 12s 28ms/step - loss: 0.0406 - accuracy: 0.9866 - val_loss: 0.0313 - val_accuracy: 0.9927\n",
      "Epoch 11/15\n",
      "422/422 [==============================] - 12s 27ms/step - loss: 0.0378 - accuracy: 0.9874 - val_loss: 0.0301 - val_accuracy: 0.9913\n",
      "Epoch 12/15\n",
      "422/422 [==============================] - 12s 28ms/step - loss: 0.0349 - accuracy: 0.9890 - val_loss: 0.0288 - val_accuracy: 0.9923\n",
      "Epoch 13/15\n",
      "422/422 [==============================] - 12s 28ms/step - loss: 0.0347 - accuracy: 0.9884 - val_loss: 0.0300 - val_accuracy: 0.9923\n",
      "Epoch 14/15\n",
      "422/422 [==============================] - 12s 28ms/step - loss: 0.0316 - accuracy: 0.9899 - val_loss: 0.0312 - val_accuracy: 0.9918\n",
      "Epoch 15/15\n",
      "422/422 [==============================] - 12s 28ms/step - loss: 0.0306 - accuracy: 0.9900 - val_loss: 0.0262 - val_accuracy: 0.9928\n"
     ]
    },
    {
     "output_type": "execute_result",
     "data": {
      "text/plain": [
       "<tensorflow.python.keras.callbacks.History at 0x2183b565430>"
      ]
     },
     "metadata": {},
     "execution_count": 29
    }
   ],
   "source": [
    "##### Train the mode #####\n",
    "model.compile(loss=\"categorical_crossentropy\", optimizer=\"adam\", metrics=[\"accuracy\"])\n",
    "model.fit(x_train, y_train, batch_size=batch_size, epochs=epochs, validation_split=0.1)"
   ]
  },
  {
   "source": [
    "## Evaluate the trained model"
   ],
   "cell_type": "markdown",
   "metadata": {}
  },
  {
   "cell_type": "code",
   "execution_count": 30,
   "metadata": {},
   "outputs": [
    {
     "output_type": "stream",
     "name": "stdout",
     "text": [
      "Test loss: 0.02265968546271324\nTest accuracy: 0.9918000102043152\n"
     ]
    }
   ],
   "source": [
    "##### Evaluate the trained model #####\n",
    "score = model.evaluate(x_test, y_test, verbose=0)\n",
    "print(\"Test loss:\", score[0])\n",
    "print(\"Test accuracy:\", score[1])"
   ]
  }
 ]
}